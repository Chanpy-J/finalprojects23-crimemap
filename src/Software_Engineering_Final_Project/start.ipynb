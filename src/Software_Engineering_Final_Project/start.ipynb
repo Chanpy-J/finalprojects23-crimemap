{
 "cells": [
  {
   "cell_type": "code",
   "execution_count": 1,
   "id": "5e9f95f5",
   "metadata": {
    "scrolled": false
   },
   "outputs": [
    {
     "name": "stdout",
     "output_type": "stream",
     "text": [
      "Welcome to the command line interface\n",
      "Enter a command: File_input\n",
      "csvFileName: NYPD_Complaint_Data_Current__Year_To_Date_1.csv\n",
      "Result: None\n",
      "Enter a command: Map_plot\n",
      "      CMPLNT_NUM  ADDR_PCT_CD        BORO_NM CMPLNT_FR_DT CMPLNT_FR_TM  \\\n",
      "425    239082681         47.0          BRONX      08/2018           22   \n",
      "551    242253777          1.0      MANHATTAN      08/2018           00   \n",
      "1143   250986987        120.0  STATEN ISLAND      08/2018           16   \n",
      "2715   240806563         30.0      MANHATTAN      08/2018           22   \n",
      "4212   245618214         46.0          BRONX      08/2018           12   \n",
      "4748   251717707        101.0         QUEENS      08/2018           12   \n",
      "4966   239918336        114.0         QUEENS      08/2018           13   \n",
      "5847   241699690        113.0         QUEENS      08/2018           02   \n",
      "6692   241527472         73.0       BROOKLYN      08/2018           00   \n",
      "7466   249448509         90.0       BROOKLYN      08/2018           00   \n",
      "8043   250884170         62.0       BROOKLYN      08/2018           12   \n",
      "8324   245995592         52.0          BRONX      08/2018           13   \n",
      "9744   244949243         75.0       BROOKLYN      08/2018           10   \n",
      "10144  240706290         41.0          BRONX      08/2018           09   \n",
      "10979  241640892        114.0         QUEENS      08/2018           00   \n",
      "11094  242431115         45.0          BRONX      08/2018           00   \n",
      "\n",
      "      CMPLNT_TO_DT CMPLNT_TO_TM CRM_ATPT_CPTD_CD HADEVELOPT  HOUSING_PSA  ...  \\\n",
      "425     08/30/2018     01:10:00        COMPLETED     (null)          NaN  ...   \n",
      "551     09/30/2018     23:59:00        COMPLETED     (null)          NaN  ...   \n",
      "1143    09/09/2022     16:00:00        COMPLETED     (null)          NaN  ...   \n",
      "2715    06/22/2019     04:00:00        COMPLETED     (null)          NaN  ...   \n",
      "4212    09/03/2018     12:00:00        COMPLETED     (null)          NaN  ...   \n",
      "4748    08/01/2018     13:00:00        COMPLETED     (null)      34216.0  ...   \n",
      "4966    08/26/2018     13:55:00        COMPLETED     (null)          NaN  ...   \n",
      "5847    08/31/2018     04:00:00        COMPLETED     (null)          NaN  ...   \n",
      "6692    08/01/2018     23:59:00        COMPLETED     (null)       3369.0  ...   \n",
      "7466    08/11/2018     23:59:00        ATTEMPTED     (null)        470.0  ...   \n",
      "8043           NaN       (null)        COMPLETED     (null)          NaN  ...   \n",
      "8324    08/29/2018     23:59:00        COMPLETED     (null)          NaN  ...   \n",
      "9744    05/12/2022     10:00:00        COMPLETED     (null)          NaN  ...   \n",
      "10144   02/09/2022     09:00:00        COMPLETED     (null)          NaN  ...   \n",
      "10979   09/30/2018     23:59:00        COMPLETED     (null)          NaN  ...   \n",
      "11094   08/28/2018     23:59:00        COMPLETED     (null)          NaN  ...   \n",
      "\n",
      "       TRANSIT_DISTRICT VIC_AGE_GROUP        VIC_RACE VIC_SEX X_COORD_CD  \\\n",
      "425                 NaN         25-44           BLACK       M    1026486   \n",
      "551                 NaN         25-44         UNKNOWN       F     982381   \n",
      "1143                NaN         25-44  WHITE HISPANIC       F     965561   \n",
      "2715                NaN         18-24  WHITE HISPANIC       F     999790   \n",
      "4212                NaN         25-44           WHITE       M    1005452   \n",
      "4748                NaN           <18           BLACK       F    1053639   \n",
      "4966               20.0         25-44           WHITE       F    1008983   \n",
      "5847                NaN         25-44           BLACK       F    1046315   \n",
      "6692                NaN           <18           BLACK       F    1008245   \n",
      "7466                NaN           <18           BLACK       F     998002   \n",
      "8043                NaN           <18  WHITE HISPANIC       F     983431   \n",
      "8324                NaN         25-44  WHITE HISPANIC       F    1012694   \n",
      "9744                NaN         45-64         UNKNOWN       F    1013755   \n",
      "10144               NaN       UNKNOWN  WHITE HISPANIC       D    1011498   \n",
      "10979               NaN         25-44           WHITE       F    1007788   \n",
      "11094               NaN           <18  WHITE HISPANIC       F    1032091   \n",
      "\n",
      "      Y_COORD_CD   Latitude  Longitude                                Lat_Lon  \\\n",
      "425       262591  40.887325 -73.847247                (40.887325, -73.847247)   \n",
      "551       201750  40.720442 -74.006744  (40.7204418884676, -74.0067439741913)   \n",
      "1143      163273  40.614804 -74.067312                (40.614804, -74.067312)   \n",
      "2715      241169  40.828623 -73.943849  (40.8286232400477, -73.9438488369889)   \n",
      "4212      248643  40.849118 -73.923363                (40.849118, -73.923363)   \n",
      "4748      158980  40.602776 -73.750117  (40.6027762300781, -73.7501173648331)   \n",
      "4966      222055  40.776131 -73.910700            (40.77613133, -73.91069962)   \n",
      "5847      187088  40.679981 -73.776234  (40.6799807384666, -73.7762339071953)   \n",
      "6692      183796  40.671130 -73.913502  (40.6711300016904, -73.9135020552048)   \n",
      "7466      196692  40.706548 -73.950401  (40.7065483947783, -73.9504006335643)   \n",
      "8043      158677  40.602216 -74.002951  (40.6022161657077, -74.0029507988395)   \n",
      "8324      254135  40.864172 -73.897163                (40.864172, -73.897163)   \n",
      "9744      182377  40.667213 -73.893643                (40.667213, -73.893643)   \n",
      "10144     236431  40.815585 -73.901557                (40.815585, -73.901557)   \n",
      "10979     219633  40.769495 -73.915024  (40.7694951184418, -73.9150241703895)   \n",
      "11094     241976  40.830722 -73.827126  (40.8307223277672, -73.8271260588639)   \n",
      "\n",
      "                         New Georeferenced Column  \n",
      "425                  POINT (-73.847247 40.887325)  \n",
      "551    POINT (-74.0067439741913 40.7204418884676)  \n",
      "1143                 POINT (-74.067312 40.614804)  \n",
      "2715   POINT (-73.9438488369889 40.8286232400477)  \n",
      "4212                 POINT (-73.923363 40.849118)  \n",
      "4748   POINT (-73.7501173648331 40.6027762300781)  \n",
      "4966             POINT (-73.91069962 40.77613133)  \n",
      "5847   POINT (-73.7762339071953 40.6799807384666)  \n",
      "6692   POINT (-73.9135020552048 40.6711300016904)  \n",
      "7466   POINT (-73.9504006335643 40.7065483947783)  \n",
      "8043   POINT (-74.0029507988395 40.6022161657077)  \n",
      "8324                 POINT (-73.897163 40.864172)  \n",
      "9744                 POINT (-73.893643 40.667213)  \n",
      "10144                POINT (-73.901557 40.815585)  \n",
      "10979  POINT (-73.9150241703895 40.7694951184418)  \n",
      "11094  POINT (-73.8271260588639 40.8307223277672)  \n",
      "\n",
      "[16 rows x 36 columns]\n"
     ]
    },
    {
     "data": {
      "application/vnd.jupyter.widget-view+json": {
       "model_id": "8c0b1e7392ba4f5096211edc62ba5d33",
       "version_major": 2,
       "version_minor": 0
      },
      "text/plain": [
       "interactive(children=(Dropdown(description='city', options=('ALL', 'BRONX', 'BROOKLYN', 'MANHATTAN', 'QUEENS',…"
      ]
     },
     "metadata": {},
     "output_type": "display_data"
    },
    {
     "name": "stdout",
     "output_type": "stream",
     "text": [
      "check\n"
     ]
    }
   ],
   "source": [
    "%run driver.py"
   ]
  },
  {
   "cell_type": "code",
   "execution_count": null,
   "id": "c7a8e4ad",
   "metadata": {},
   "outputs": [],
   "source": []
  },
  {
   "cell_type": "code",
   "execution_count": null,
   "id": "3b1a2b68",
   "metadata": {},
   "outputs": [],
   "source": []
  }
 ],
 "metadata": {
  "kernelspec": {
   "display_name": "Python 3",
   "language": "python",
   "name": "python3"
  },
  "language_info": {
   "codemirror_mode": {
    "name": "ipython",
    "version": 3
   },
   "file_extension": ".py",
   "mimetype": "text/x-python",
   "name": "python",
   "nbconvert_exporter": "python",
   "pygments_lexer": "ipython3",
   "version": "3.8.8"
  }
 },
 "nbformat": 4,
 "nbformat_minor": 5
}
